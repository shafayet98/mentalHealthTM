{
 "cells": [
  {
   "cell_type": "code",
   "execution_count": 27,
   "id": "16570b34-70a6-43a2-9abe-5ace3d1f8072",
   "metadata": {},
   "outputs": [],
   "source": [
    "from datasets import load_dataset\n",
    "import pandas as pd\n",
    "import spacy as sp\n",
    "from spacy.lang.en.stop_words import STOP_WORDS"
   ]
  },
  {
   "cell_type": "code",
   "execution_count": 2,
   "id": "ecf766c2-dbb6-4d59-a238-31159ddbd22a",
   "metadata": {},
   "outputs": [],
   "source": [
    "# view the col context fully...\n",
    "\n",
    "pd.set_option('display.max_colwidth', None)"
   ]
  },
  {
   "cell_type": "code",
   "execution_count": 3,
   "id": "f4cdf143-d7c8-420a-a7e1-0b40fbd73ff7",
   "metadata": {},
   "outputs": [],
   "source": [
    "ds = load_dataset(\"Amod/mental_health_counseling_conversations\")"
   ]
  },
  {
   "cell_type": "code",
   "execution_count": 4,
   "id": "bc9169f3-7fcd-45da-a5f0-5a0a08b2967a",
   "metadata": {},
   "outputs": [],
   "source": [
    "df = ds['train'].to_pandas()"
   ]
  },
  {
   "cell_type": "code",
   "execution_count": null,
   "id": "dacf116b-c3d7-44b8-b32b-135eef722e2d",
   "metadata": {},
   "outputs": [],
   "source": []
  },
  {
   "cell_type": "code",
   "execution_count": 6,
   "id": "81e444be-8a1d-4c07-85db-d119d0581deb",
   "metadata": {},
   "outputs": [],
   "source": [
    "unique_contexts = df['Context'].drop_duplicates()"
   ]
  },
  {
   "cell_type": "code",
   "execution_count": 7,
   "id": "bb8b0e57-abf6-4761-9b32-291cbe4bc985",
   "metadata": {},
   "outputs": [
    {
     "data": {
      "text/plain": [
       "995"
      ]
     },
     "execution_count": 7,
     "metadata": {},
     "output_type": "execute_result"
    }
   ],
   "source": [
    "len(unique_contexts)"
   ]
  },
  {
   "cell_type": "code",
   "execution_count": 10,
   "id": "eb0fbf21-479e-483f-b9c5-fa62d255b541",
   "metadata": {},
   "outputs": [
    {
     "name": "stdout",
     "output_type": "stream",
     "text": [
      "I have a severe back problem. I've had 3 major and several minor operations, but I'm still in constant pain. How can I deal with the depression from this chronic pain?\n"
     ]
    }
   ],
   "source": [
    "# iloc is used to get specific index position of this dataframe. \n",
    "\n",
    "print(unique_contexts.iloc[5])"
   ]
  },
  {
   "cell_type": "code",
   "execution_count": 15,
   "id": "ed2f255a-b447-470d-8b41-7a3341b7d98c",
   "metadata": {},
   "outputs": [],
   "source": [
    "# spacy understanding\n",
    "nlp = sp.load('en_core_web_sm')\n",
    "doc = nlp('This is nlp with spaCy')"
   ]
  },
  {
   "cell_type": "code",
   "execution_count": 31,
   "id": "1103314c-468f-4bf9-8a94-707e1a113367",
   "metadata": {},
   "outputs": [],
   "source": [
    "# making our own stop words\n",
    "stop_words = ['say', 'said', 'it', 'an', 'none', 'all', 'saying']\n",
    "for stopwords in stop_words:\n",
    "  lexeme = nlp.vocab[stopwords]\n",
    "  lexeme.is_stop = True"
   ]
  },
  {
   "cell_type": "code",
   "execution_count": 28,
   "id": "d849c483-8592-4fd8-b568-0eaecc556aea",
   "metadata": {},
   "outputs": [
    {
     "data": {
      "text/plain": [
       "328"
      ]
     },
     "execution_count": 28,
     "metadata": {},
     "output_type": "execute_result"
    }
   ],
   "source": [
    "# spacy's own stop word dictionary\n",
    "len(STOP_WORDS)"
   ]
  },
  {
   "cell_type": "code",
   "execution_count": 29,
   "id": "acfb52e4-f8ec-4440-926b-55f172654d23",
   "metadata": {},
   "outputs": [],
   "source": [
    "# adding our own stopword\n",
    "for word in stop_words:\n",
    "    STOP_WORDS.add(word)"
   ]
  },
  {
   "cell_type": "code",
   "execution_count": 30,
   "id": "d6cb142a-26e1-4e3c-b6bd-8d5bb2bb65f9",
   "metadata": {},
   "outputs": [
    {
     "data": {
      "text/plain": [
       "328"
      ]
     },
     "execution_count": 30,
     "metadata": {},
     "output_type": "execute_result"
    }
   ],
   "source": [
    "len(STOP_WORDS)"
   ]
  },
  {
   "cell_type": "code",
   "execution_count": 32,
   "id": "03b0ec6d-33b0-4406-80f4-7beba0fde42e",
   "metadata": {},
   "outputs": [
    {
     "name": "stdout",
     "output_type": "stream",
     "text": [
      "['real', 'time', 'training', 'global', 'emergency', 'critical', 'effective', 'preparedness', 'response']\n"
     ]
    }
   ],
   "source": [
    "# lemmatization practice\n",
    "doc = nlp('Real-time training during global emergencies is critical for effective preparedness and response.')\n",
    "\n",
    "sentence = []\n",
    "for w in doc:\n",
    "  # if it’s not a stop word or punctuation mark, add it to our article!\n",
    "  if w.text != 'n' and not w.is_stop and not w.is_punct and not w.like_num:\n",
    "    # we add the lemmatized version of the word\n",
    "    sentence.append(w.lemma_)\n",
    "print(sentence)"
   ]
  },
  {
   "cell_type": "code",
   "execution_count": null,
   "id": "e7b79ad8-26bd-4685-b577-76bf473c4c08",
   "metadata": {},
   "outputs": [],
   "source": [
    "# Vectorizing text and transformations and n-grams"
   ]
  },
  {
   "cell_type": "code",
   "execution_count": null,
   "id": "fb54ffcb-c3ed-4177-a08e-8c11a7fd4a2c",
   "metadata": {},
   "outputs": [],
   "source": []
  },
  {
   "cell_type": "code",
   "execution_count": null,
   "id": "89fed450-869a-4a3b-9044-270235db25e4",
   "metadata": {},
   "outputs": [],
   "source": []
  },
  {
   "cell_type": "code",
   "execution_count": null,
   "id": "6f734839-6e34-405f-9e56-68ee18021870",
   "metadata": {},
   "outputs": [],
   "source": []
  },
  {
   "cell_type": "code",
   "execution_count": null,
   "id": "65f9ea63-4904-4b9a-a13b-60277fe5c97c",
   "metadata": {},
   "outputs": [],
   "source": []
  },
  {
   "cell_type": "code",
   "execution_count": null,
   "id": "382a588c-c935-4f96-bea8-47d5c5cb28e4",
   "metadata": {},
   "outputs": [],
   "source": []
  },
  {
   "cell_type": "code",
   "execution_count": null,
   "id": "09757269-910e-4950-85d9-fe7657c5be60",
   "metadata": {},
   "outputs": [],
   "source": []
  }
 ],
 "metadata": {
  "kernelspec": {
   "display_name": "Python 3 (ipykernel)",
   "language": "python",
   "name": "python3"
  },
  "language_info": {
   "codemirror_mode": {
    "name": "ipython",
    "version": 3
   },
   "file_extension": ".py",
   "mimetype": "text/x-python",
   "name": "python",
   "nbconvert_exporter": "python",
   "pygments_lexer": "ipython3",
   "version": "3.11.10"
  }
 },
 "nbformat": 4,
 "nbformat_minor": 5
}
