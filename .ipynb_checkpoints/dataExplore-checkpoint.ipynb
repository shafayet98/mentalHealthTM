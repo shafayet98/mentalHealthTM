{
 "cells": [
  {
   "cell_type": "code",
   "execution_count": 1,
   "id": "16570b34-70a6-43a2-9abe-5ace3d1f8072",
   "metadata": {},
   "outputs": [
    {
     "name": "stderr",
     "output_type": "stream",
     "text": [
      "/Users/shafayetulislam/Documents/mentalHealthTM/mentalHealthTMenv/lib/python3.11/site-packages/tqdm/auto.py:21: TqdmWarning: IProgress not found. Please update jupyter and ipywidgets. See https://ipywidgets.readthedocs.io/en/stable/user_install.html\n",
      "  from .autonotebook import tqdm as notebook_tqdm\n"
     ]
    }
   ],
   "source": [
    "from datasets import load_dataset\n",
    "import pandas as pd\n",
    "import spacy as sp\n",
    "from spacy.lang.en.stop_words import STOP_WORDS\n",
    "import numpy as np\n",
    "\n",
    "\n",
    "import re\n",
    "import nltk\n",
    "from nltk.corpus import stopwords\n",
    "from gensim import corpora\n",
    "from gensim.models import LdaModel\n",
    "from sklearn.feature_extraction.text import TfidfVectorizer\n",
    "import pyLDAvis.gensim\n",
    "import pyLDAvis\n",
    "from nltk.stem import WordNetLemmatizer"
   ]
  },
  {
   "cell_type": "code",
   "execution_count": 2,
   "id": "c6e04ec2-f07d-4237-8685-c2dd36ef6f10",
   "metadata": {},
   "outputs": [],
   "source": [
    "import pandas as pd\n",
    "import numpy as np\n",
    "from sklearn.feature_extraction.text import CountVectorizer, TfidfVectorizer\n",
    "from sklearn.decomposition import LatentDirichletAllocation, NMF\n",
    "import nltk\n",
    "from nltk.corpus import stopwords\n",
    "from nltk.tokenize import word_tokenize\n",
    "from nltk.stem import WordNetLemmatizer\n",
    "import re"
   ]
  },
  {
   "cell_type": "code",
   "execution_count": 3,
   "id": "2bb8d24d-7a5a-4f50-9a00-89abf90433d6",
   "metadata": {},
   "outputs": [],
   "source": [
    "import pyLDAvis.gensim_models as gensimvis\n",
    "import pyLDAvis\n",
    "from IPython.display import display"
   ]
  },
  {
   "cell_type": "code",
   "execution_count": null,
   "id": "1c04ea9a-03a7-4f34-a86d-c8b783742072",
   "metadata": {},
   "outputs": [],
   "source": []
  },
  {
   "cell_type": "code",
   "execution_count": 6,
   "id": "ecf766c2-dbb6-4d59-a238-31159ddbd22a",
   "metadata": {},
   "outputs": [],
   "source": [
    "# view the col context fully...\n",
    "\n",
    "pd.set_option('display.max_colwidth', None)"
   ]
  },
  {
   "cell_type": "code",
   "execution_count": 7,
   "id": "f4cdf143-d7c8-420a-a7e1-0b40fbd73ff7",
   "metadata": {},
   "outputs": [],
   "source": [
    "ds = load_dataset(\"Amod/mental_health_counseling_conversations\")"
   ]
  },
  {
   "cell_type": "code",
   "execution_count": 8,
   "id": "bc9169f3-7fcd-45da-a5f0-5a0a08b2967a",
   "metadata": {},
   "outputs": [],
   "source": [
    "df = ds['train'].to_pandas()"
   ]
  },
  {
   "cell_type": "code",
   "execution_count": 9,
   "id": "81e444be-8a1d-4c07-85db-d119d0581deb",
   "metadata": {},
   "outputs": [],
   "source": [
    "unique_contexts = df['Context'].drop_duplicates()"
   ]
  },
  {
   "cell_type": "code",
   "execution_count": 10,
   "id": "bb8b0e57-abf6-4761-9b32-291cbe4bc985",
   "metadata": {},
   "outputs": [],
   "source": [
    "unique_contexts_list = unique_contexts.tolist()"
   ]
  },
  {
   "cell_type": "code",
   "execution_count": 11,
   "id": "a0d80fc6-c8ca-4f32-b554-a9101ac147d0",
   "metadata": {},
   "outputs": [
    {
     "name": "stderr",
     "output_type": "stream",
     "text": [
      "[nltk_data] Downloading package stopwords to\n",
      "[nltk_data]     /Users/shafayetulislam/nltk_data...\n",
      "[nltk_data]   Package stopwords is already up-to-date!\n"
     ]
    }
   ],
   "source": [
    "nltk.download('stopwords')\n",
    "stop_words = set(stopwords.words('english'))"
   ]
  },
  {
   "cell_type": "code",
   "execution_count": 12,
   "id": "ac697580-115c-490f-ab36-54712b62099f",
   "metadata": {},
   "outputs": [],
   "source": [
    "def simple_preprocess(text):\n",
    "    \"\"\"\n",
    "    Simple preprocessing function without relying on NLTK\n",
    "    \"\"\"\n",
    "    # Convert to lowercase\n",
    "    text = str(text).lower()\n",
    "    \n",
    "    # Remove special characters and numbers\n",
    "    text = re.sub(r'[^a-zA-Z\\s]', ' ', text)\n",
    "    \n",
    "    # Split on whitespace\n",
    "    tokens = text.split()\n",
    "    \n",
    "    \n",
    "    # Remove stop words\n",
    "    tokens = [word for word in tokens if word not in stop_words]  # Remove stopwords\n",
    "    \n",
    "    return ' '.join(tokens)"
   ]
  },
  {
   "cell_type": "code",
   "execution_count": 13,
   "id": "5c9c1706-fab0-4dd1-9e40-b0b50c006a2d",
   "metadata": {},
   "outputs": [],
   "source": [
    "def perform_topic_modeling(texts, n_topics=5):\n",
    "    \"\"\"\n",
    "    Perform topic modeling using both LDA and NMF\n",
    "    \"\"\"\n",
    "    # Preprocess texts\n",
    "    processed_texts = [simple_preprocess(text) for text in texts]\n",
    "    \n",
    "    # Create TF-IDF matrix\n",
    "    vectorizer = TfidfVectorizer(\n",
    "        max_features=1000,\n",
    "        min_df=2,\n",
    "        max_df=0.95\n",
    "    )\n",
    "    dtm = vectorizer.fit_transform(processed_texts)\n",
    "    \n",
    "    # Perform LDA\n",
    "    lda_model = LatentDirichletAllocation(\n",
    "        n_components=n_topics,\n",
    "        random_state=42,\n",
    "        max_iter=20\n",
    "    )\n",
    "    \n",
    "    # Fit LDA model\n",
    "    doc_topics = lda_model.fit_transform(dtm)\n",
    "    \n",
    "    # Get feature names\n",
    "    feature_names = vectorizer.get_feature_names_out()\n",
    "    \n",
    "    # Get top words for each topic\n",
    "    n_top_words = 10\n",
    "    topics = []\n",
    "    for topic_idx, topic in enumerate(lda_model.components_):\n",
    "        top_words = [feature_names[i] for i in topic.argsort()[:-n_top_words-1:-1]]\n",
    "        topics.append({\n",
    "            'topic_id': topic_idx,\n",
    "            'words': top_words\n",
    "        })\n",
    "    \n",
    "    return {\n",
    "        'doc_topics': doc_topics,\n",
    "        'topics': topics,\n",
    "        'model': lda_model,\n",
    "        'vectorizer': vectorizer,\n",
    "        'processed_texts': processed_texts\n",
    "    }"
   ]
  },
  {
   "cell_type": "code",
   "execution_count": 14,
   "id": "70ab74d1-9bab-4c31-9122-4b78066d8df6",
   "metadata": {},
   "outputs": [],
   "source": [
    "def visualize_topics(lda_results):\n",
    "    \"\"\"\n",
    "    Create an interactive visualization of the LDA topics using pyLDAvis\n",
    "    \n",
    "    Parameters:\n",
    "    lda_results (dict): Dictionary containing the LDA model results including:\n",
    "        - model: The fitted LDA model\n",
    "        - vectorizer: The fitted TF-IDF vectorizer\n",
    "        - dtm: Document-term matrix\n",
    "        - processed_texts: List of preprocessed texts\n",
    "    \n",
    "    Returns:\n",
    "    pyLDAvis HTML object that can be displayed in a notebook or saved to file\n",
    "    \"\"\"\n",
    "    # Get the document-term matrix from the vectorizer\n",
    "    dtm = lda_results['vectorizer'].transform(lda_results['processed_texts'])\n",
    "    \n",
    "    # Prepare the visualization\n",
    "    vis_data = pyLDAvis.sklearn.prepare(\n",
    "        lda_results['model'],\n",
    "        dtm,\n",
    "        lda_results['vectorizer'],\n",
    "        mds='tsne',  # Using t-SNE for dimension reduction\n",
    "        sort_topics=False\n",
    "    )\n",
    "    \n",
    "    # Save the visualization to an HTML file\n",
    "    pyLDAvis.save_html(vis_data, 'topic_visualization.html')\n",
    "    \n",
    "    return vis_data"
   ]
  },
  {
   "cell_type": "code",
   "execution_count": 15,
   "id": "55fa969f-1d20-4b75-a083-c8faa5a2c8f0",
   "metadata": {},
   "outputs": [],
   "source": [
    "# Test with your data\n",
    "def analyze_mental_health_topics(text_list):\n",
    "    \"\"\"\n",
    "    Analyze mental health conversations and print topics\n",
    "    \"\"\"\n",
    "    print(\"Starting analysis...\")\n",
    "    results = perform_topic_modeling(text_list, n_topics=5)\n",
    "    \n",
    "    print(\"\\nDiscovered Topics:\")\n",
    "    for topic in results['topics']:\n",
    "        print(f\"\\nTopic {topic['topic_id'] + 1}:\")\n",
    "        print(\", \".join(topic['words']))\n",
    "\n",
    "    print(\"\\nGenerating interactive visualization...\")\n",
    "    vis_data = visualize_topics(results)\n",
    "    print(\"Visualization saved as 'topic_visualization.html'\")\n",
    "    \n",
    "    return results, vis_data"
   ]
  },
  {
   "cell_type": "code",
   "execution_count": 16,
   "id": "3d95d26b-41b0-4f27-a4f7-b2c45bd1cbe3",
   "metadata": {},
   "outputs": [
    {
     "name": "stdout",
     "output_type": "stream",
     "text": [
      "Starting analysis...\n",
      "\n",
      "Discovered Topics:\n",
      "\n",
      "Topic 1:\n",
      "know, understand, mother, done, bullied, dependent, afraid, intimate, cat, live\n",
      "\n",
      "Topic 2:\n",
      "feel, like, get, know, people, even, always, sex, thoughts, head\n",
      "\n",
      "Topic 3:\n",
      "like, feel, want, time, years, know, get, love, really, never\n",
      "\n",
      "Topic 4:\n",
      "mood, people, eating, depression, stressed, stress, approach, dog, type, counseling\n",
      "\n",
      "Topic 5:\n",
      "help, get, relationship, know, child, someone, find, wife, feel, see\n",
      "\n",
      "Generating interactive visualization...\n"
     ]
    },
    {
     "ename": "AttributeError",
     "evalue": "module 'pyLDAvis' has no attribute 'sklearn'",
     "output_type": "error",
     "traceback": [
      "\u001b[0;31m---------------------------------------------------------------------------\u001b[0m",
      "\u001b[0;31mAttributeError\u001b[0m                            Traceback (most recent call last)",
      "Cell \u001b[0;32mIn[16], line 1\u001b[0m\n\u001b[0;32m----> 1\u001b[0m results, vis \u001b[38;5;241m=\u001b[39m \u001b[43manalyze_mental_health_topics\u001b[49m\u001b[43m(\u001b[49m\u001b[43munique_contexts_list\u001b[49m\u001b[43m)\u001b[49m\n",
      "Cell \u001b[0;32mIn[15], line 15\u001b[0m, in \u001b[0;36manalyze_mental_health_topics\u001b[0;34m(text_list)\u001b[0m\n\u001b[1;32m     12\u001b[0m     \u001b[38;5;28mprint\u001b[39m(\u001b[38;5;124m\"\u001b[39m\u001b[38;5;124m, \u001b[39m\u001b[38;5;124m\"\u001b[39m\u001b[38;5;241m.\u001b[39mjoin(topic[\u001b[38;5;124m'\u001b[39m\u001b[38;5;124mwords\u001b[39m\u001b[38;5;124m'\u001b[39m]))\n\u001b[1;32m     14\u001b[0m \u001b[38;5;28mprint\u001b[39m(\u001b[38;5;124m\"\u001b[39m\u001b[38;5;130;01m\\n\u001b[39;00m\u001b[38;5;124mGenerating interactive visualization...\u001b[39m\u001b[38;5;124m\"\u001b[39m)\n\u001b[0;32m---> 15\u001b[0m vis_data \u001b[38;5;241m=\u001b[39m \u001b[43mvisualize_topics\u001b[49m\u001b[43m(\u001b[49m\u001b[43mresults\u001b[49m\u001b[43m)\u001b[49m\n\u001b[1;32m     16\u001b[0m \u001b[38;5;28mprint\u001b[39m(\u001b[38;5;124m\"\u001b[39m\u001b[38;5;124mVisualization saved as \u001b[39m\u001b[38;5;124m'\u001b[39m\u001b[38;5;124mtopic_visualization.html\u001b[39m\u001b[38;5;124m'\u001b[39m\u001b[38;5;124m\"\u001b[39m)\n\u001b[1;32m     18\u001b[0m \u001b[38;5;28;01mreturn\u001b[39;00m results, vis_data\n",
      "Cell \u001b[0;32mIn[14], line 19\u001b[0m, in \u001b[0;36mvisualize_topics\u001b[0;34m(lda_results)\u001b[0m\n\u001b[1;32m     16\u001b[0m dtm \u001b[38;5;241m=\u001b[39m lda_results[\u001b[38;5;124m'\u001b[39m\u001b[38;5;124mvectorizer\u001b[39m\u001b[38;5;124m'\u001b[39m]\u001b[38;5;241m.\u001b[39mtransform(lda_results[\u001b[38;5;124m'\u001b[39m\u001b[38;5;124mprocessed_texts\u001b[39m\u001b[38;5;124m'\u001b[39m])\n\u001b[1;32m     18\u001b[0m \u001b[38;5;66;03m# Prepare the visualization\u001b[39;00m\n\u001b[0;32m---> 19\u001b[0m vis_data \u001b[38;5;241m=\u001b[39m \u001b[43mpyLDAvis\u001b[49m\u001b[38;5;241;43m.\u001b[39;49m\u001b[43msklearn\u001b[49m\u001b[38;5;241m.\u001b[39mprepare(\n\u001b[1;32m     20\u001b[0m     lda_results[\u001b[38;5;124m'\u001b[39m\u001b[38;5;124mmodel\u001b[39m\u001b[38;5;124m'\u001b[39m],\n\u001b[1;32m     21\u001b[0m     dtm,\n\u001b[1;32m     22\u001b[0m     lda_results[\u001b[38;5;124m'\u001b[39m\u001b[38;5;124mvectorizer\u001b[39m\u001b[38;5;124m'\u001b[39m],\n\u001b[1;32m     23\u001b[0m     mds\u001b[38;5;241m=\u001b[39m\u001b[38;5;124m'\u001b[39m\u001b[38;5;124mtsne\u001b[39m\u001b[38;5;124m'\u001b[39m,  \u001b[38;5;66;03m# Using t-SNE for dimension reduction\u001b[39;00m\n\u001b[1;32m     24\u001b[0m     sort_topics\u001b[38;5;241m=\u001b[39m\u001b[38;5;28;01mFalse\u001b[39;00m\n\u001b[1;32m     25\u001b[0m )\n\u001b[1;32m     27\u001b[0m \u001b[38;5;66;03m# Save the visualization to an HTML file\u001b[39;00m\n\u001b[1;32m     28\u001b[0m pyLDAvis\u001b[38;5;241m.\u001b[39msave_html(vis_data, \u001b[38;5;124m'\u001b[39m\u001b[38;5;124mtopic_visualization.html\u001b[39m\u001b[38;5;124m'\u001b[39m)\n",
      "\u001b[0;31mAttributeError\u001b[0m: module 'pyLDAvis' has no attribute 'sklearn'"
     ]
    }
   ],
   "source": [
    "results, vis = analyze_mental_health_topics(unique_contexts_list)"
   ]
  },
  {
   "cell_type": "code",
   "execution_count": null,
   "id": "6d91ff5e-06d5-48d9-bb3e-fed5e52a6c6f",
   "metadata": {},
   "outputs": [],
   "source": []
  },
  {
   "cell_type": "code",
   "execution_count": null,
   "id": "941a767e-3abc-48a7-8892-1aa786b99669",
   "metadata": {},
   "outputs": [],
   "source": []
  },
  {
   "cell_type": "code",
   "execution_count": null,
   "id": "5efda761-2000-4f7e-af32-9dea3d638262",
   "metadata": {},
   "outputs": [],
   "source": []
  },
  {
   "cell_type": "code",
   "execution_count": null,
   "id": "73ff2d6e-5954-4502-a576-569fed47106c",
   "metadata": {},
   "outputs": [],
   "source": []
  },
  {
   "cell_type": "code",
   "execution_count": null,
   "id": "0144b50a-f616-4d35-9c4d-af0adab67ac5",
   "metadata": {},
   "outputs": [],
   "source": []
  },
  {
   "cell_type": "code",
   "execution_count": null,
   "id": "cc92d24b-ff31-4c5e-8bd8-035df36b54fb",
   "metadata": {},
   "outputs": [],
   "source": []
  },
  {
   "cell_type": "code",
   "execution_count": null,
   "id": "8ee2c053-f7e5-4654-8b78-02eba06da8f8",
   "metadata": {},
   "outputs": [],
   "source": []
  },
  {
   "cell_type": "code",
   "execution_count": null,
   "id": "58a6348a-6d85-4949-a4ff-eb2ba1a849e6",
   "metadata": {},
   "outputs": [],
   "source": []
  },
  {
   "cell_type": "code",
   "execution_count": null,
   "id": "a2791b9d-d976-48fd-97f4-ec953788df13",
   "metadata": {},
   "outputs": [],
   "source": []
  },
  {
   "cell_type": "code",
   "execution_count": null,
   "id": "a6a502aa-f72b-4216-b7e1-0367746b2634",
   "metadata": {},
   "outputs": [],
   "source": []
  },
  {
   "cell_type": "code",
   "execution_count": null,
   "id": "eb0fbf21-479e-483f-b9c5-fa62d255b541",
   "metadata": {},
   "outputs": [],
   "source": []
  },
  {
   "cell_type": "code",
   "execution_count": null,
   "id": "ed2f255a-b447-470d-8b41-7a3341b7d98c",
   "metadata": {},
   "outputs": [],
   "source": []
  },
  {
   "cell_type": "code",
   "execution_count": null,
   "id": "1103314c-468f-4bf9-8a94-707e1a113367",
   "metadata": {},
   "outputs": [],
   "source": []
  },
  {
   "cell_type": "code",
   "execution_count": null,
   "id": "d849c483-8592-4fd8-b568-0eaecc556aea",
   "metadata": {},
   "outputs": [],
   "source": []
  },
  {
   "cell_type": "code",
   "execution_count": null,
   "id": "acfb52e4-f8ec-4440-926b-55f172654d23",
   "metadata": {},
   "outputs": [],
   "source": []
  },
  {
   "cell_type": "code",
   "execution_count": null,
   "id": "d6cb142a-26e1-4e3c-b6bd-8d5bb2bb65f9",
   "metadata": {},
   "outputs": [],
   "source": []
  },
  {
   "cell_type": "code",
   "execution_count": null,
   "id": "03b0ec6d-33b0-4406-80f4-7beba0fde42e",
   "metadata": {},
   "outputs": [],
   "source": []
  },
  {
   "cell_type": "code",
   "execution_count": null,
   "id": "e7b79ad8-26bd-4685-b577-76bf473c4c08",
   "metadata": {},
   "outputs": [],
   "source": []
  },
  {
   "cell_type": "code",
   "execution_count": null,
   "id": "fb54ffcb-c3ed-4177-a08e-8c11a7fd4a2c",
   "metadata": {},
   "outputs": [],
   "source": []
  },
  {
   "cell_type": "code",
   "execution_count": null,
   "id": "89fed450-869a-4a3b-9044-270235db25e4",
   "metadata": {},
   "outputs": [],
   "source": []
  },
  {
   "cell_type": "code",
   "execution_count": null,
   "id": "6f734839-6e34-405f-9e56-68ee18021870",
   "metadata": {},
   "outputs": [],
   "source": []
  },
  {
   "cell_type": "code",
   "execution_count": null,
   "id": "65f9ea63-4904-4b9a-a13b-60277fe5c97c",
   "metadata": {},
   "outputs": [],
   "source": []
  },
  {
   "cell_type": "code",
   "execution_count": null,
   "id": "382a588c-c935-4f96-bea8-47d5c5cb28e4",
   "metadata": {},
   "outputs": [],
   "source": []
  },
  {
   "cell_type": "code",
   "execution_count": null,
   "id": "09757269-910e-4950-85d9-fe7657c5be60",
   "metadata": {},
   "outputs": [],
   "source": []
  }
 ],
 "metadata": {
  "kernelspec": {
   "display_name": "Python 3 (ipykernel)",
   "language": "python",
   "name": "python3"
  },
  "language_info": {
   "codemirror_mode": {
    "name": "ipython",
    "version": 3
   },
   "file_extension": ".py",
   "mimetype": "text/x-python",
   "name": "python",
   "nbconvert_exporter": "python",
   "pygments_lexer": "ipython3",
   "version": "3.11.10"
  }
 },
 "nbformat": 4,
 "nbformat_minor": 5
}
